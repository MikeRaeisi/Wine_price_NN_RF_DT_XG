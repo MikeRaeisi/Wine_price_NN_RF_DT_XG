{
 "cells": [
  {
   "cell_type": "code",
   "execution_count": 1,
   "metadata": {},
   "outputs": [],
   "source": [
    "import numpy as np\n",
    "import pandas as pd"
   ]
  },
  {
   "cell_type": "code",
   "execution_count": 2,
   "metadata": {},
   "outputs": [],
   "source": [
    "df = pd.read_csv('winemag-data_first150k.csv', index_col=0)"
   ]
  },
  {
   "cell_type": "code",
   "execution_count": 3,
   "metadata": {},
   "outputs": [
    {
     "name": "stdout",
     "output_type": "stream",
     "text": [
      "(150930, 10)\n",
      "country         object\n",
      "description     object\n",
      "designation     object\n",
      "points           int64\n",
      "price          float64\n",
      "province        object\n",
      "region_1        object\n",
      "region_2        object\n",
      "variety         object\n",
      "winery          object\n",
      "dtype: object\n"
     ]
    }
   ],
   "source": [
    "print(df.shape)\n",
    "print(df.dtypes)"
   ]
  },
  {
   "cell_type": "code",
   "execution_count": 4,
   "metadata": {},
   "outputs": [
    {
     "data": {
      "text/plain": [
       "country         True\n",
       "description    False\n",
       "designation     True\n",
       "points         False\n",
       "price           True\n",
       "province        True\n",
       "region_1        True\n",
       "region_2        True\n",
       "variety        False\n",
       "winery         False\n",
       "dtype: bool"
      ]
     },
     "execution_count": 4,
     "metadata": {},
     "output_type": "execute_result"
    }
   ],
   "source": [
    "df.isnull().any()"
   ]
  },
  {
   "cell_type": "code",
   "execution_count": 5,
   "metadata": {},
   "outputs": [
    {
     "data": {
      "text/plain": [
       "array([ 235.,  110.,   90.,   65.,   66.,   73.,   60.,   80.,   48.,\n",
       "        185.,  325.,  290.,   75.,   24.,   79.,  220.,   45.,   57.,\n",
       "         62.,  105.,   15.,   37.,   nan,   22.,   42.,  135.,   29.,\n",
       "         23.,   17.,   26.,   55.,   39.,   69.,   30.,   50.,   40.,\n",
       "        100.,   68.,   28.,   18.,   25.,   36.,   38.,   85.,   19.,\n",
       "         54.,   59.,   10.,   12.,   13.,   14.,   20.,  125.,    7.,\n",
       "         49.,   93.,   32.,   16.,   21.,   44.,   35.,   61.,   34.,\n",
       "         11.,   58.,  120.,   41.,  200.,   43.,    9.,   56.,   46.,\n",
       "         92.,   94.,   27.,   95.,   33.,   70.,  155.,   63.,  130.,\n",
       "        115.,   31.,   98.,   52.,   64.,   91.,  111.,   88.,   74.,\n",
       "         77.,   87.,  113.,  140.,  500.,   51.,  150.,  240.,   72.,\n",
       "        103.,    8.,  136.,  141.,  102.,   47.,   53.,   96.,   78.,\n",
       "        149.,  138.,  117.,    4.,   99.,  848.,  450.,  330.,  175.,\n",
       "         89.,   82.,   71.,  137.,  145.,  698.,  160.,  770.,  118.,\n",
       "        238.,  202.,  250.,  165.,   83.,  107.,   76.,   67.,  128.,\n",
       "        119.,  129.,  180.,    6.,  225.,    5.,  152.,   84.,   86.,\n",
       "        124.,   97.,  365.,  179.,  350.,  195.,  300.,  156.,  315.,\n",
       "        187.,  520.,  170.,  428.,  257.,  294.,  166.,  226.,  280.,\n",
       "        380.,  740.,  108.,  391.,  282.,  312.,  123.,  131.,  196.,\n",
       "        850.,  600.,  237.,  227.,  351.,  415., 1100.,  104.,  127.,\n",
       "        106.,  258.,  375.,  320.,  980.,  112.,  101.,  230.,  142.,\n",
       "        468.,  639.,  288.,  281.,  357.,  208.,  199.,  307.,  159.,\n",
       "        168.,  133.,  310.,  215.,  670.,  122.,  245.,  463.,  260.,\n",
       "       2013.,  239.,  400.,  269.,  214.,  625.,   81.,  270.,  345.,\n",
       "        316.,  205.,  410.,  275.,  126.,  764.,  190.,  153.,  183.,\n",
       "        212.,  167.,  169.,  285.,  279.,  249.,  299.,  229.,  360.,\n",
       "        460.,  800.,  139., 1400.,  385.,  390.,  252.,  109.,  154.,\n",
       "        134.,  295.,  445.,  612.,  271.,  228.,  448.,  292.,  440.,\n",
       "        376.,  231.,  114.,  349.,  399.,  163.,  210.,  116.,  151.,\n",
       "        148.,  162.,  191.,  173.,  318.,  550.,  510.,  660.,  685.,\n",
       "        182.,  775.,  323.,  419.,  132., 2300., 1900., 1300., 1200.,\n",
       "        236.,  412., 1000.,  545.,  243.,  143.,  426.,  588.,  204.,\n",
       "        265.,  158.,  174.,  247.,  164.,  430.,  194.,  261.,  147.,\n",
       "        451.,  574.,  544.,  273.,  189.,  317.,  248.,  177.,  176.,\n",
       "        144.,  197.,  157.,  289.,  505.,  198.,  146.,  411.,  757.,\n",
       "        259.,  535.,  328.,  206.,  216.,  354.,  495.,  193.,  525.,\n",
       "        256.,  475.,  398.,  530.,  181.,  255.,  420.,  266.,  121.,\n",
       "        246.,  599.,  178.,  335.,  900.,  222.,  171.,  486.,  203.,\n",
       "        395.,  303.,  319.,  268.,  211.,  467.,  293.,  224.,  283.,\n",
       "        596.,  253.,  455.,  580.,  184.,  172.,  217.])"
      ]
     },
     "execution_count": 5,
     "metadata": {},
     "output_type": "execute_result"
    }
   ],
   "source": [
    "df.price.unique()"
   ]
  },
  {
   "cell_type": "code",
   "execution_count": 6,
   "metadata": {},
   "outputs": [
    {
     "data": {
      "text/plain": [
       "13695"
      ]
     },
     "execution_count": 6,
     "metadata": {},
     "output_type": "execute_result"
    }
   ],
   "source": [
    "df.price.isnull().sum()"
   ]
  },
  {
   "cell_type": "code",
   "execution_count": 7,
   "metadata": {},
   "outputs": [],
   "source": [
    "xy = df.copy()"
   ]
  },
  {
   "cell_type": "code",
   "execution_count": 8,
   "metadata": {},
   "outputs": [],
   "source": [
    "xy.dropna(axis=0, subset=['price'], inplace=True)"
   ]
  },
  {
   "cell_type": "code",
   "execution_count": 9,
   "metadata": {},
   "outputs": [
    {
     "data": {
      "text/plain": [
       "(137235, 10)"
      ]
     },
     "execution_count": 9,
     "metadata": {},
     "output_type": "execute_result"
    }
   ],
   "source": [
    "xy.shape"
   ]
  },
  {
   "cell_type": "code",
   "execution_count": 10,
   "metadata": {},
   "outputs": [
    {
     "data": {
      "text/plain": [
       "country            5\n",
       "description        0\n",
       "designation    42311\n",
       "points             0\n",
       "price              0\n",
       "province           5\n",
       "region_1       22842\n",
       "region_2       76531\n",
       "variety            0\n",
       "winery             0\n",
       "dtype: int64"
      ]
     },
     "execution_count": 10,
     "metadata": {},
     "output_type": "execute_result"
    }
   ],
   "source": [
    "xy.isnull().sum()"
   ]
  },
  {
   "cell_type": "code",
   "execution_count": 11,
   "metadata": {},
   "outputs": [],
   "source": [
    "xy.dropna(axis=0, subset=['country'], inplace=True)"
   ]
  },
  {
   "cell_type": "code",
   "execution_count": 12,
   "metadata": {},
   "outputs": [
    {
     "data": {
      "text/plain": [
       "(137230, 10)"
      ]
     },
     "execution_count": 12,
     "metadata": {},
     "output_type": "execute_result"
    }
   ],
   "source": [
    "xy.shape"
   ]
  },
  {
   "cell_type": "code",
   "execution_count": 13,
   "metadata": {},
   "outputs": [
    {
     "data": {
      "text/plain": [
       "country            0\n",
       "description        0\n",
       "designation    42311\n",
       "points             0\n",
       "price              0\n",
       "province           0\n",
       "region_1       22837\n",
       "region_2       76526\n",
       "variety            0\n",
       "winery             0\n",
       "dtype: int64"
      ]
     },
     "execution_count": 13,
     "metadata": {},
     "output_type": "execute_result"
    }
   ],
   "source": [
    "xy.isnull().sum()"
   ]
  },
  {
   "cell_type": "code",
   "execution_count": 14,
   "metadata": {},
   "outputs": [],
   "source": [
    "# xy.groupby(by='country', axis=0).mean()"
   ]
  },
  {
   "cell_type": "code",
   "execution_count": 15,
   "metadata": {},
   "outputs": [],
   "source": [
    "xy2 = xy.copy()\n",
    "xy2.dropna(axis=1, inplace=True)\n",
    "xy2.drop('description', axis=1, inplace=True)"
   ]
  },
  {
   "cell_type": "code",
   "execution_count": 16,
   "metadata": {},
   "outputs": [
    {
     "data": {
      "text/plain": [
       "(137230, 6)"
      ]
     },
     "execution_count": 16,
     "metadata": {},
     "output_type": "execute_result"
    }
   ],
   "source": [
    "xy2.shape"
   ]
  },
  {
   "cell_type": "code",
   "execution_count": 17,
   "metadata": {},
   "outputs": [],
   "source": [
    "assert(xy2.isnull().any().sum()==0)"
   ]
  },
  {
   "cell_type": "code",
   "execution_count": 18,
   "metadata": {},
   "outputs": [],
   "source": [
    "X = xy2.copy()\n",
    "y = X.pop('price')"
   ]
  },
  {
   "cell_type": "code",
   "execution_count": 19,
   "metadata": {
    "scrolled": true
   },
   "outputs": [
    {
     "name": "stderr",
     "output_type": "stream",
     "text": [
      "C:\\ProgramData\\Anaconda3\\lib\\site-packages\\pandas\\core\\indexing.py:1745: SettingWithCopyWarning: \n",
      "A value is trying to be set on a copy of a slice from a DataFrame.\n",
      "Try using .loc[row_indexer,col_indexer] = value instead\n",
      "\n",
      "See the caveats in the documentation: https://pandas.pydata.org/pandas-docs/stable/user_guide/indexing.html#returning-a-view-versus-a-copy\n",
      "  isetter(ilocs[0], value)\n",
      "C:\\ProgramData\\Anaconda3\\lib\\site-packages\\pandas\\core\\indexing.py:1765: SettingWithCopyWarning: \n",
      "A value is trying to be set on a copy of a slice from a DataFrame.\n",
      "Try using .loc[row_indexer,col_indexer] = value instead\n",
      "\n",
      "See the caveats in the documentation: https://pandas.pydata.org/pandas-docs/stable/user_guide/indexing.html#returning-a-view-versus-a-copy\n",
      "  isetter(loc, value)\n"
     ]
    }
   ],
   "source": [
    "# Break down the dataset to train-valid-test\n",
    "from sklearn.model_selection import train_test_split\n",
    "X_trainval, X_test, y_trainval, y_test = train_test_split(X, y, test_size = 0.2)\n",
    "X_train, X_valid, y_train, y_valid = train_test_split(X_trainval, y_trainval, test_size = 0.2)\n",
    "\n",
    "cat_label = X_train.select_dtypes(object).columns\n",
    "\n",
    "from sklearn.preprocessing import LabelEncoder\n",
    "import bisect\n",
    "le = LabelEncoder()\n",
    "\n",
    "for col in cat_label:\n",
    "    X_train.loc[:, (col)] = le.fit_transform(X_train.loc[:, col])\n",
    "    le_cls = le.classes_.tolist()\n",
    "    \n",
    "    X_valid.loc[(~X_valid[col].isin(le_cls)), (col)] = 'Other'\n",
    "    X_test.loc[(~X_test[col].isin(le_cls)), (col)] = 'Other' \n",
    "    bisect.insort_left(le_cls, 'Other')\n",
    "    \n",
    "    le.classes_ = le_cls\n",
    "    X_valid.loc[:, (col)] = le.transform(X_valid[col])\n",
    "    X_test.loc[:, (col)] = le.transform(X_test[col])"
   ]
  },
  {
   "cell_type": "markdown",
   "metadata": {},
   "source": [
    "# Decision Tree model"
   ]
  },
  {
   "cell_type": "code",
   "execution_count": 20,
   "metadata": {},
   "outputs": [
    {
     "name": "stdout",
     "output_type": "stream",
     "text": [
      "[11.614860864416814, 11.09955822744455, 11.039304094366262, 10.9898210137997, 11.087010975998542, 10.998724780252312, 11.054675046682151]\n"
     ]
    }
   ],
   "source": [
    "from sklearn.tree import DecisionTreeRegressor\n",
    "from sklearn.metrics import mean_absolute_error\n",
    "\n",
    "def decision_tree(X_train, y_train, X_valid, y_valid, Max_depth_lst, min_split_list, min_leaf_list):\n",
    "    if len(Max_depth_lst)==len(min_split_list) and len(min_split_list)==len(min_leaf_list):\n",
    "        Model_error = []\n",
    "        for i in range(len(Max_depth_lst)):\n",
    "            dtc = DecisionTreeRegressor(criterion='mae', splitter='best', max_depth=Max_depth_lst[i], min_samples_split=min_split_list[i], min_samples_leaf=min_leaf_list[i])\n",
    "\n",
    "            dtc.fit(X_train, y_train)\n",
    "            y_val_pred = dtc.predict(X_valid)\n",
    "            Model_error.append(mean_absolute_error(y_val_pred, y_valid))\n",
    "        return Model_error\n",
    "    else:\n",
    "        return None\n",
    "\n",
    "depth = [10, 20, 50, 50, 50, 100, 250]\n",
    "split = [10, 10, 10,  6, 20,  10,  10]\n",
    "leaf  = [ 3,  3,  3,  3,  6,   3,   3]\n",
    "\n",
    "errors = decision_tree(X_train, y_train, X_valid, y_valid, depth, split, leaf)\n",
    "print(errors)"
   ]
  },
  {
   "cell_type": "code",
   "execution_count": 21,
   "metadata": {},
   "outputs": [
    {
     "name": "stdout",
     "output_type": "stream",
     "text": [
      "training error= 5.977205187470823\n",
      "validation error= 10.99517238238375\n",
      "test error= 10.992494352546819\n"
     ]
    }
   ],
   "source": [
    "dtc = DecisionTreeRegressor(criterion='mae', splitter='best', max_depth=50, min_samples_split=6, min_samples_leaf=3)\n",
    "dtc.fit(X_train, y_train)\n",
    "y_trn_pred = dtc.predict(X_train)\n",
    "y_val_pred = dtc.predict(X_valid)\n",
    "y_tst_pred = dtc.predict(X_test)\n",
    "print('training error=',mean_absolute_error(y_trn_pred, y_train))\n",
    "print('validation error=',mean_absolute_error(y_val_pred, y_valid))\n",
    "print('test error=',mean_absolute_error(y_tst_pred, y_test))"
   ]
  },
  {
   "cell_type": "code",
   "execution_count": 22,
   "metadata": {},
   "outputs": [
    {
     "name": "stdout",
     "output_type": "stream",
     "text": [
      "training error= 7.529742903662881\n",
      "validation error= 10.192706198478847\n",
      "test error= 10.139264373679225\n"
     ]
    }
   ],
   "source": [
    "from sklearn.ensemble import RandomForestRegressor\n",
    "\n",
    "rfr = RandomForestRegressor(n_estimators=50, criterion='mae', max_depth=50, min_samples_split=6, min_samples_leaf=3)\n",
    "\n",
    "rfr.fit(X_train, y_train)\n",
    "\n",
    "y_trn_pred = rfr.predict(X_train)\n",
    "y_val_pred = rfr.predict(X_valid)\n",
    "y_tst_pred = rfr.predict(X_test)\n",
    "\n",
    "print('training error=',mean_absolute_error(y_trn_pred, y_train))\n",
    "print('validation error=',mean_absolute_error(y_val_pred, y_valid))\n",
    "print('test error=',mean_absolute_error(y_tst_pred, y_test))"
   ]
  },
  {
   "cell_type": "code",
   "execution_count": 23,
   "metadata": {},
   "outputs": [
    {
     "name": "stdout",
     "output_type": "stream",
     "text": [
      "[21:56:52] WARNING: C:/Users/Administrator/workspace/xgboost-win64_release_1.4.0/src/learner.cc:573: \n",
      "Parameters: { \"early_stopping_rounds\" } might not be used.\n",
      "\n",
      "  This may not be accurate due to some parameters are only used in language bindings but\n",
      "  passed down to XGBoost core.  Or some parameters are not used but slip through this\n",
      "  verification. Please open an issue if you find above cases.\n",
      "\n",
      "\n"
     ]
    },
    {
     "name": "stderr",
     "output_type": "stream",
     "text": [
      "C:\\ProgramData\\Anaconda3\\lib\\site-packages\\xgboost\\data.py:112: UserWarning: Use subset (sliced data) of np.ndarray is not recommended because it will generate extra copies and increase memory consumption\n",
      "  warnings.warn(\n"
     ]
    },
    {
     "name": "stdout",
     "output_type": "stream",
     "text": [
      "training error= 10.319584402544558\n",
      "validation error= 11.548196421081308\n",
      "test error= 11.604841276550488\n"
     ]
    }
   ],
   "source": [
    "from xgboost import XGBRegressor\n",
    "\n",
    "xgb = XGBRegressor(n_estimators=300, early_stopping_rounds=4, learning_rate=0.1, n_jobs=4)\n",
    "\n",
    "xgb.fit(X_train, y_train)\n",
    "\n",
    "y_trn_pred = xgb.predict(X_train)\n",
    "y_val_pred = xgb.predict(X_valid)\n",
    "y_tst_pred = xgb.predict(X_test)\n",
    "\n",
    "print('training error=',mean_absolute_error(y_trn_pred, y_train))\n",
    "print('validation error=',mean_absolute_error(y_val_pred, y_valid))\n",
    "print('test error=',mean_absolute_error(y_tst_pred, y_test))"
   ]
  },
  {
   "cell_type": "code",
   "execution_count": 36,
   "metadata": {
    "scrolled": true
   },
   "outputs": [
    {
     "name": "stdout",
     "output_type": "stream",
     "text": [
      "Epoch 1/100\n",
      "5490/5490 - 4s - loss: 30.5860 - mean_absolute_error: 30.5860\n",
      "Epoch 2/100\n",
      "5490/5490 - 4s - loss: 17.9004 - mean_absolute_error: 17.9004\n",
      "Epoch 3/100\n",
      "5490/5490 - 4s - loss: 17.0347 - mean_absolute_error: 17.0347\n",
      "Epoch 4/100\n",
      "5490/5490 - 4s - loss: 16.8510 - mean_absolute_error: 16.8510\n",
      "Epoch 5/100\n",
      "5490/5490 - 4s - loss: 16.7091 - mean_absolute_error: 16.7091\n",
      "Epoch 6/100\n",
      "5490/5490 - 4s - loss: 16.6457 - mean_absolute_error: 16.6457\n",
      "Epoch 7/100\n",
      "5490/5490 - 4s - loss: 16.5207 - mean_absolute_error: 16.5207\n",
      "Epoch 8/100\n",
      "5490/5490 - 4s - loss: 16.3613 - mean_absolute_error: 16.3613\n",
      "Epoch 9/100\n",
      "5490/5490 - 4s - loss: 16.2521 - mean_absolute_error: 16.2521\n",
      "Epoch 10/100\n",
      "5490/5490 - 4s - loss: 16.2756 - mean_absolute_error: 16.2756\n",
      "Epoch 11/100\n",
      "5490/5490 - 4s - loss: 16.1877 - mean_absolute_error: 16.1877\n",
      "Epoch 12/100\n",
      "5490/5490 - 4s - loss: 16.0544 - mean_absolute_error: 16.0544\n",
      "Epoch 13/100\n",
      "5490/5490 - 4s - loss: 16.0304 - mean_absolute_error: 16.0304\n",
      "Epoch 14/100\n",
      "5490/5490 - 4s - loss: 15.9492 - mean_absolute_error: 15.9492\n",
      "Epoch 15/100\n",
      "5490/5490 - 4s - loss: 15.9244 - mean_absolute_error: 15.9244\n",
      "Epoch 16/100\n",
      "5490/5490 - 4s - loss: 15.8285 - mean_absolute_error: 15.8285\n",
      "Epoch 17/100\n",
      "5490/5490 - 4s - loss: 15.7733 - mean_absolute_error: 15.7733\n",
      "Epoch 18/100\n",
      "5490/5490 - 4s - loss: 15.9040 - mean_absolute_error: 15.9040\n",
      "Epoch 19/100\n",
      "5490/5490 - 4s - loss: 15.9380 - mean_absolute_error: 15.9380\n",
      "Epoch 20/100\n",
      "5490/5490 - 4s - loss: 15.7562 - mean_absolute_error: 15.7562\n",
      "Epoch 21/100\n",
      "5490/5490 - 4s - loss: 15.7014 - mean_absolute_error: 15.7014\n",
      "Epoch 22/100\n",
      "5490/5490 - 4s - loss: 15.6684 - mean_absolute_error: 15.6684\n",
      "Epoch 23/100\n",
      "5490/5490 - 4s - loss: 15.6321 - mean_absolute_error: 15.6321\n",
      "Epoch 24/100\n",
      "5490/5490 - 4s - loss: 15.6097 - mean_absolute_error: 15.6097\n",
      "Epoch 25/100\n",
      "5490/5490 - 4s - loss: 15.5687 - mean_absolute_error: 15.5687\n",
      "Epoch 26/100\n",
      "5490/5490 - 4s - loss: 15.4934 - mean_absolute_error: 15.4934\n",
      "Epoch 27/100\n",
      "5490/5490 - 4s - loss: 15.4736 - mean_absolute_error: 15.4736\n",
      "Epoch 28/100\n",
      "5490/5490 - 4s - loss: 15.4735 - mean_absolute_error: 15.4735\n",
      "Epoch 29/100\n",
      "5490/5490 - 4s - loss: 15.4461 - mean_absolute_error: 15.4461\n",
      "Epoch 30/100\n",
      "5490/5490 - 4s - loss: 15.4502 - mean_absolute_error: 15.4502\n",
      "Epoch 31/100\n",
      "5490/5490 - 4s - loss: 15.3749 - mean_absolute_error: 15.3749\n",
      "Epoch 32/100\n",
      "5490/5490 - 4s - loss: 15.4073 - mean_absolute_error: 15.4073\n",
      "Epoch 33/100\n",
      "5490/5490 - 4s - loss: 15.3663 - mean_absolute_error: 15.3663\n",
      "Epoch 34/100\n",
      "5490/5490 - 4s - loss: 15.2919 - mean_absolute_error: 15.2919\n",
      "Epoch 35/100\n",
      "5490/5490 - 4s - loss: 15.3079 - mean_absolute_error: 15.3079\n",
      "Epoch 36/100\n",
      "5490/5490 - 4s - loss: 15.2550 - mean_absolute_error: 15.2550\n",
      "Epoch 37/100\n",
      "5490/5490 - 4s - loss: 15.2749 - mean_absolute_error: 15.2749\n",
      "Epoch 38/100\n",
      "5490/5490 - 4s - loss: 15.2560 - mean_absolute_error: 15.2560\n",
      "Epoch 39/100\n",
      "5490/5490 - 4s - loss: 15.2190 - mean_absolute_error: 15.2190\n",
      "Epoch 40/100\n",
      "5490/5490 - 4s - loss: 15.1793 - mean_absolute_error: 15.1793\n",
      "Epoch 41/100\n",
      "5490/5490 - 4s - loss: 15.1685 - mean_absolute_error: 15.1685\n",
      "Epoch 42/100\n",
      "5490/5490 - 3s - loss: 15.2412 - mean_absolute_error: 15.2412\n",
      "Epoch 43/100\n",
      "5490/5490 - 3s - loss: 15.1479 - mean_absolute_error: 15.1479\n",
      "Epoch 44/100\n",
      "5490/5490 - 3s - loss: 15.1413 - mean_absolute_error: 15.1413\n",
      "Epoch 45/100\n",
      "5490/5490 - 3s - loss: 15.2499 - mean_absolute_error: 15.2499\n",
      "Epoch 46/100\n",
      "5490/5490 - 4s - loss: 15.1305 - mean_absolute_error: 15.1305\n",
      "Epoch 47/100\n",
      "5490/5490 - 4s - loss: 15.0868 - mean_absolute_error: 15.0868\n",
      "Epoch 48/100\n",
      "5490/5490 - 4s - loss: 15.1083 - mean_absolute_error: 15.1083\n",
      "Epoch 49/100\n",
      "5490/5490 - 4s - loss: 15.1236 - mean_absolute_error: 15.1236\n",
      "Epoch 50/100\n",
      "5490/5490 - 4s - loss: 15.0869 - mean_absolute_error: 15.0869\n",
      "Epoch 51/100\n",
      "5490/5490 - 4s - loss: 15.0433 - mean_absolute_error: 15.0433\n",
      "Epoch 52/100\n",
      "5490/5490 - 4s - loss: 15.0711 - mean_absolute_error: 15.0711\n",
      "Epoch 53/100\n",
      "5490/5490 - 4s - loss: 15.0406 - mean_absolute_error: 15.0406\n",
      "Epoch 54/100\n",
      "5490/5490 - 4s - loss: 15.0283 - mean_absolute_error: 15.0283\n",
      "Epoch 55/100\n",
      "5490/5490 - 4s - loss: 14.9951 - mean_absolute_error: 14.9951\n",
      "Epoch 56/100\n",
      "5490/5490 - 4s - loss: 14.9955 - mean_absolute_error: 14.9955\n",
      "Epoch 57/100\n",
      "5490/5490 - 3s - loss: 14.9426 - mean_absolute_error: 14.9426\n",
      "Epoch 58/100\n",
      "5490/5490 - 3s - loss: 15.0481 - mean_absolute_error: 15.0481\n",
      "Epoch 59/100\n",
      "5490/5490 - 3s - loss: 14.9121 - mean_absolute_error: 14.9121\n",
      "Epoch 60/100\n",
      "5490/5490 - 4s - loss: 14.8545 - mean_absolute_error: 14.8545\n",
      "Epoch 61/100\n",
      "5490/5490 - 4s - loss: 14.8964 - mean_absolute_error: 14.8964\n",
      "Epoch 62/100\n",
      "5490/5490 - 4s - loss: 14.9125 - mean_absolute_error: 14.9125\n",
      "Epoch 63/100\n",
      "5490/5490 - 4s - loss: 14.9032 - mean_absolute_error: 14.9032\n",
      "Epoch 64/100\n",
      "5490/5490 - 4s - loss: 14.8509 - mean_absolute_error: 14.8509\n",
      "Epoch 65/100\n",
      "5490/5490 - 4s - loss: 14.8312 - mean_absolute_error: 14.8312\n",
      "Epoch 66/100\n",
      "5490/5490 - 4s - loss: 14.7803 - mean_absolute_error: 14.7803\n",
      "Epoch 67/100\n",
      "5490/5490 - 4s - loss: 14.7916 - mean_absolute_error: 14.7916\n",
      "Epoch 68/100\n",
      "5490/5490 - 4s - loss: 14.7664 - mean_absolute_error: 14.7664\n",
      "Epoch 69/100\n",
      "5490/5490 - 4s - loss: 14.8337 - mean_absolute_error: 14.8337\n",
      "Epoch 70/100\n",
      "5490/5490 - 4s - loss: 14.7681 - mean_absolute_error: 14.7681\n",
      "Epoch 71/100\n",
      "5490/5490 - 4s - loss: 14.7549 - mean_absolute_error: 14.7549\n",
      "Epoch 72/100\n",
      "5490/5490 - 4s - loss: 14.7590 - mean_absolute_error: 14.7590\n",
      "Epoch 73/100\n",
      "5490/5490 - 4s - loss: 14.7013 - mean_absolute_error: 14.7013\n",
      "Epoch 74/100\n",
      "5490/5490 - 4s - loss: 14.7514 - mean_absolute_error: 14.7514\n",
      "Epoch 75/100\n",
      "5490/5490 - 3s - loss: 14.7119 - mean_absolute_error: 14.7119\n",
      "Epoch 76/100\n",
      "5490/5490 - 3s - loss: 14.6875 - mean_absolute_error: 14.6875\n",
      "Epoch 77/100\n",
      "5490/5490 - 3s - loss: 14.6186 - mean_absolute_error: 14.6186\n",
      "Epoch 78/100\n",
      "5490/5490 - 3s - loss: 14.6124 - mean_absolute_error: 14.6124\n",
      "Epoch 79/100\n",
      "5490/5490 - 3s - loss: 14.6659 - mean_absolute_error: 14.6659\n",
      "Epoch 80/100\n",
      "5490/5490 - 3s - loss: 14.6228 - mean_absolute_error: 14.6228\n",
      "Epoch 81/100\n",
      "5490/5490 - 3s - loss: 14.6394 - mean_absolute_error: 14.6394\n",
      "Epoch 82/100\n",
      "5490/5490 - 3s - loss: 14.6011 - mean_absolute_error: 14.6011\n",
      "Epoch 83/100\n",
      "5490/5490 - 3s - loss: 14.5719 - mean_absolute_error: 14.5719\n",
      "Epoch 84/100\n",
      "5490/5490 - 3s - loss: 14.5884 - mean_absolute_error: 14.5884\n",
      "Epoch 85/100\n",
      "5490/5490 - 3s - loss: 14.5652 - mean_absolute_error: 14.5652\n",
      "Epoch 86/100\n",
      "5490/5490 - 4s - loss: 14.4490 - mean_absolute_error: 14.4490\n",
      "Epoch 87/100\n",
      "5490/5490 - 4s - loss: 14.4526 - mean_absolute_error: 14.4526\n",
      "Epoch 88/100\n",
      "5490/5490 - 4s - loss: 14.4238 - mean_absolute_error: 14.4238\n",
      "Epoch 89/100\n",
      "5490/5490 - 4s - loss: 14.4003 - mean_absolute_error: 14.4003\n",
      "Epoch 90/100\n",
      "5490/5490 - 4s - loss: 14.4173 - mean_absolute_error: 14.4173\n",
      "Epoch 91/100\n",
      "5490/5490 - 4s - loss: 14.4314 - mean_absolute_error: 14.4314\n",
      "Epoch 92/100\n",
      "5490/5490 - 4s - loss: 14.4305 - mean_absolute_error: 14.4305\n",
      "Epoch 93/100\n",
      "5490/5490 - 4s - loss: 14.3504 - mean_absolute_error: 14.3504\n",
      "Epoch 94/100\n",
      "5490/5490 - 4s - loss: 14.3605 - mean_absolute_error: 14.3605\n",
      "Epoch 95/100\n",
      "5490/5490 - 4s - loss: 14.3460 - mean_absolute_error: 14.3460\n",
      "Epoch 96/100\n",
      "5490/5490 - 4s - loss: 14.3359 - mean_absolute_error: 14.3359\n",
      "Epoch 97/100\n",
      "5490/5490 - 4s - loss: 14.3868 - mean_absolute_error: 14.3868\n",
      "Epoch 98/100\n",
      "5490/5490 - 4s - loss: 14.3687 - mean_absolute_error: 14.3687\n",
      "Epoch 99/100\n",
      "5490/5490 - 4s - loss: 14.3426 - mean_absolute_error: 14.3426\n",
      "Epoch 100/100\n",
      "5490/5490 - 4s - loss: 14.3402 - mean_absolute_error: 14.3402\n",
      "validation error= 13.860428810119629\n",
      "test error= 13.778100967407227\n"
     ]
    }
   ],
   "source": [
    "from keras.models import Sequential\n",
    "from keras.layers import Dense\n",
    "import keras\n",
    "\n",
    "seq_mod = Sequential(\n",
    "    [\n",
    "        Dense(10, input_dim=X_train.shape[1], activation='relu', kernel_initializer='he_normal'),\n",
    "        Dense(25, input_dim=X_train.shape[1], activation='relu', kernel_initializer='he_normal'),\n",
    "        Dense(50, input_dim=X_train.shape[1], activation='relu', kernel_initializer='he_normal'),\n",
    "        Dense(50, input_dim=X_train.shape[1], activation='relu', kernel_initializer='he_normal'),\n",
    "        Dense(20, input_dim=X_train.shape[1], activation='relu', kernel_initializer='he_normal'),\n",
    "        Dense(1)\n",
    "    ])\n",
    "seq_mod.compile(optimizer='adam', loss='MeanAbsoluteError', metrics=['MeanAbsoluteError'])\n",
    "seq_mod.fit(X_train, y_train, epochs=100, batch_size=16, verbose=2)\n",
    "\n",
    "_, seq_val_error = seq_mod.evaluate(X_valid, y_valid, verbose=0)\n",
    "_, seq_tst_error = seq_mod.evaluate(X_test, y_test, verbose=0)\n",
    "\n",
    "print('validation error=', seq_val_error)\n",
    "print('test error=', seq_tst_error)"
   ]
  },
  {
   "cell_type": "code",
   "execution_count": null,
   "metadata": {},
   "outputs": [],
   "source": []
  }
 ],
 "metadata": {
  "kernelspec": {
   "display_name": "Python 3",
   "language": "python",
   "name": "python3"
  },
  "language_info": {
   "codemirror_mode": {
    "name": "ipython",
    "version": 3
   },
   "file_extension": ".py",
   "mimetype": "text/x-python",
   "name": "python",
   "nbconvert_exporter": "python",
   "pygments_lexer": "ipython3",
   "version": "3.8.5"
  }
 },
 "nbformat": 4,
 "nbformat_minor": 4
}
